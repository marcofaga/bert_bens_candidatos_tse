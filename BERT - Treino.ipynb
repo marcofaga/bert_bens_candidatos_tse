{
 "cells": [
  {
   "cell_type": "code",
   "execution_count": 1,
   "id": "0fd5feff-9727-495a-9545-635404b1a459",
   "metadata": {},
   "outputs": [
    {
     "name": "stderr",
     "output_type": "stream",
     "text": [
      "C:\\Users\\marco\\miniconda3\\envs\\bertclass\\Lib\\site-packages\\tqdm\\auto.py:21: TqdmWarning: IProgress not found. Please update jupyter and ipywidgets. See https://ipywidgets.readthedocs.io/en/stable/user_install.html\n",
      "  from .autonotebook import tqdm as notebook_tqdm\n"
     ]
    }
   ],
   "source": [
    "import pandas as pd\n",
    "import numpy as np\n",
    "import torch\n",
    "from torch.utils.data import Dataset, DataLoader, SubsetRandomSampler\n",
    "import torch.optim as optim\n",
    "from transformers import AutoTokenizer, AutoModelForSequenceClassification, get_linear_schedule_with_warmup #hugging face\n",
    "from sklearn.model_selection import train_test_split\n",
    "from sklearn.metrics import accuracy_score, precision_recall_fscore_support\n",
    "from tqdm import tqdm\n",
    "from datetime import datetime\n",
    "import random"
   ]
  },
  {
   "cell_type": "code",
   "execution_count": 2,
   "id": "f2b4adc1-7b83-47cd-b6aa-060fd3e1b23d",
   "metadata": {},
   "outputs": [],
   "source": [
    "# 1. Definir o Dataset customizado para treino/validação\n",
    "class TextDataset(Dataset):\n",
    "    def __init__(self, dataframe, tokenizer, max_len=128, is_train=True):\n",
    "        self.dataframe = dataframe.reset_index(drop=True)\n",
    "        self.tokenizer = tokenizer\n",
    "        self.max_len = max_len\n",
    "        self.is_train = is_train\n",
    "\n",
    "    def __len__(self):\n",
    "        return len(self.dataframe)\n",
    "    \n",
    "    def __getitem__(self, index):\n",
    "        text = self.dataframe.loc[index, 'ds_bem_candidato']\n",
    "        encoding = self.tokenizer.encode_plus(\n",
    "            text,\n",
    "            add_special_tokens=True,\n",
    "            max_length=self.max_len,\n",
    "            truncation=True,\n",
    "            padding='max_length',\n",
    "            return_attention_mask=True,\n",
    "            return_tensors='pt'\n",
    "        )\n",
    "        item = {\n",
    "            'input_ids': encoding['input_ids'].squeeze(),  # remove dimensao extra\n",
    "            'attention_mask': encoding['attention_mask'].squeeze()\n",
    "        }\n",
    "        if self.is_train:\n",
    "            label = self.dataframe.loc[index, 'y']\n",
    "            item['labels'] = torch.tensor(label, dtype=torch.long)\n",
    "        return item\n",
    "\n",
    "# Dataset para aplicação (sem labels)\n",
    "class AppDataset(Dataset):\n",
    "    def __init__(self, dataframe, tokenizer, max_len=128):\n",
    "        self.dataframe = dataframe.reset_index(drop=True)\n",
    "        self.tokenizer = tokenizer\n",
    "        self.max_len = max_len\n",
    "        \n",
    "    def __len__(self):\n",
    "        return len(self.dataframe)\n",
    "    \n",
    "    def __getitem__(self, index):\n",
    "        text = self.dataframe.loc[index, 'ds_bem_candidato']\n",
    "        encoding = self.tokenizer.encode_plus(\n",
    "            text,\n",
    "            add_special_tokens=True,\n",
    "            max_length=self.max_len,\n",
    "            truncation=True,\n",
    "            padding='max_length',\n",
    "            return_attention_mask=True,\n",
    "            return_tensors='pt'\n",
    "        )\n",
    "        return {\n",
    "            'input_ids': encoding['input_ids'].squeeze(),\n",
    "            'attention_mask': encoding['attention_mask'].squeeze()\n",
    "        }"
   ]
  },
  {
   "cell_type": "code",
   "execution_count": 3,
   "id": "393bd16b-d3c8-4ac0-9957-3f18ca6ccdb9",
   "metadata": {},
   "outputs": [],
   "source": [
    "# 2. Carregar os dados e dividir em treino e validação\n",
    "file_parquet = 'bases/bd01_benscand_treino.parquet'\n",
    "df = pd.read_parquet(file_parquet)\n",
    "#df = df.sample(n=1000, random_state=42)\n",
    "df['y'] = df['y'].astype(int)\n",
    "\n",
    "train_df, val_df = train_test_split(df, test_size=0.2, random_state=42)"
   ]
  },
  {
   "cell_type": "code",
   "execution_count": 4,
   "id": "bc0594bb-22cc-4cbe-a072-89045b3d786a",
   "metadata": {},
   "outputs": [
    {
     "name": "stderr",
     "output_type": "stream",
     "text": [
      "Some weights of BertForSequenceClassification were not initialized from the model checkpoint at neuralmind/bert-large-portuguese-cased and are newly initialized: ['classifier.bias', 'classifier.weight']\n",
      "You should probably TRAIN this model on a down-stream task to be able to use it for predictions and inference.\n"
     ]
    }
   ],
   "source": [
    "# 3. Carregar o tokenizer e o modelo BERT para português\n",
    "model_name = \"neuralmind/bert-large-portuguese-cased\"\n",
    "tokenizer = AutoTokenizer.from_pretrained(model_name)\n",
    "model = AutoModelForSequenceClassification.from_pretrained(model_name, num_labels=5)"
   ]
  },
  {
   "cell_type": "code",
   "execution_count": 5,
   "id": "49fc560f-2632-47c2-9abe-5719ab1ffa64",
   "metadata": {
    "scrolled": true
   },
   "outputs": [
    {
     "data": {
      "text/plain": [
       "device(type='cuda')"
      ]
     },
     "execution_count": 5,
     "metadata": {},
     "output_type": "execute_result"
    }
   ],
   "source": [
    "# 4. Configurar o dispositivo (GPU com CUDA, se disponível)\n",
    "device = torch.device(\"cuda\" if torch.cuda.is_available() else \"cpu\")\n",
    "model.to(device)\n",
    "device"
   ]
  },
  {
   "cell_type": "code",
   "execution_count": 10,
   "id": "aad0d1a7-777a-4d67-8157-5d173a7cdab8",
   "metadata": {},
   "outputs": [],
   "source": [
    "# 5. Criar os datasets e dataloaders\n",
    "max_len = 128 # número de tokens que ele vai transformar cada texto\n",
    "batch_size = 16\n",
    "sampler_size = 16000\n",
    "\n",
    "train_dataset = TextDataset(train_df, tokenizer, max_len=max_len, is_train=True)\n",
    "val_dataset = TextDataset(val_df, tokenizer, max_len=max_len, is_train=True)\n",
    "\n",
    "indices = random.sample(range(len(train_dataset)), sampler_size)\n",
    "sampler = SubsetRandomSampler(indices)\n",
    "    \n",
    "# Cria um DataLoader com o novo sampler para essa época\n",
    "train_loader = DataLoader(train_dataset, batch_size=batch_size, sampler=sampler)\n",
    "\n",
    "#train_loader = DataLoader(train_dataset, batch_size=batch_size, shuffle=True)\n",
    "val_loader = DataLoader(val_dataset, batch_size=batch_size)"
   ]
  },
  {
   "cell_type": "code",
   "execution_count": 11,
   "id": "153bd6cd-8d4d-41c7-a157-3e58fdc10816",
   "metadata": {},
   "outputs": [],
   "source": [
    "# 6. Configurar o otimizador e scheduler\n",
    "epochs = 100\n",
    "optimizer = optim.AdamW(model.parameters(), lr=2e-5, weight_decay=0.01)\n",
    "total_steps = len(train_loader) * epochs\n",
    "scheduler = get_linear_schedule_with_warmup(optimizer,\n",
    "                                            num_warmup_steps=int(0.1 * total_steps),\n",
    "                                            num_training_steps=total_steps)"
   ]
  },
  {
   "cell_type": "code",
   "execution_count": 12,
   "id": "40339ec8-0225-42fc-bd19-bf3c5cd92c1f",
   "metadata": {},
   "outputs": [
    {
     "name": "stdout",
     "output_type": "stream",
     "text": [
      "2025-03-06 04:59:00.752730\n"
     ]
    },
    {
     "name": "stderr",
     "output_type": "stream",
     "text": [
      "Epoch 1/100: 100%|████████████████████████████████████████████████████| 1000/1000 [07:52<00:00,  2.12it/s, loss=0.0893]\n"
     ]
    },
    {
     "name": "stdout",
     "output_type": "stream",
     "text": [
      "\n",
      "Epoch 1 - Treino Loss: 0.8664\n",
      "Epoch 1 - Validação Loss: 0.3031 | Acurácia: 0.9131 | Precision: 0.9021 | Recall: 0.9131 | F1: 0.8956\n",
      "\n"
     ]
    },
    {
     "name": "stderr",
     "output_type": "stream",
     "text": [
      "Epoch 2/100: 100%|████████████████████████████████████████████████████| 1000/1000 [07:52<00:00,  2.12it/s, loss=0.0630]\n"
     ]
    },
    {
     "name": "stdout",
     "output_type": "stream",
     "text": [
      "\n",
      "Epoch 2 - Treino Loss: 0.2684\n",
      "Epoch 2 - Validação Loss: 0.2294 | Acurácia: 0.9351 | Precision: 0.9309 | Recall: 0.9351 | F1: 0.9320\n",
      "\n"
     ]
    },
    {
     "name": "stderr",
     "output_type": "stream",
     "text": [
      "Epoch 3/100: 100%|████████████████████████████████████████████████████| 1000/1000 [07:53<00:00,  2.11it/s, loss=0.0361]\n"
     ]
    },
    {
     "name": "stdout",
     "output_type": "stream",
     "text": [
      "\n",
      "Epoch 3 - Treino Loss: 0.2362\n",
      "Epoch 3 - Validação Loss: 0.2193 | Acurácia: 0.9372 | Precision: 0.9349 | Recall: 0.9372 | F1: 0.9354\n",
      "\n"
     ]
    },
    {
     "name": "stderr",
     "output_type": "stream",
     "text": [
      "Epoch 4/100: 100%|████████████████████████████████████████████████████| 1000/1000 [07:53<00:00,  2.11it/s, loss=0.0386]\n"
     ]
    },
    {
     "name": "stdout",
     "output_type": "stream",
     "text": [
      "\n",
      "Epoch 4 - Treino Loss: 0.2180\n",
      "Epoch 4 - Validação Loss: 0.2105 | Acurácia: 0.9413 | Precision: 0.9382 | Recall: 0.9413 | F1: 0.9379\n",
      "\n"
     ]
    },
    {
     "name": "stderr",
     "output_type": "stream",
     "text": [
      "Epoch 5/100: 100%|████████████████████████████████████████████████████| 1000/1000 [07:52<00:00,  2.11it/s, loss=0.1891]\n"
     ]
    },
    {
     "name": "stdout",
     "output_type": "stream",
     "text": [
      "\n",
      "Epoch 5 - Treino Loss: 0.2279\n"
     ]
    },
    {
     "ename": "KeyboardInterrupt",
     "evalue": "",
     "output_type": "error",
     "traceback": [
      "\u001b[31m---------------------------------------------------------------------------\u001b[39m",
      "\u001b[31mKeyboardInterrupt\u001b[39m                         Traceback (most recent call last)",
      "\u001b[36mCell\u001b[39m\u001b[36m \u001b[39m\u001b[32mIn[12]\u001b[39m\u001b[32m, line 52\u001b[39m\n\u001b[32m     50\u001b[39m outputs = model(input_ids=input_ids, attention_mask=attention_mask, labels=labels)\n\u001b[32m     51\u001b[39m loss = outputs.loss\n\u001b[32m---> \u001b[39m\u001b[32m52\u001b[39m val_loss += \u001b[43mloss\u001b[49m\u001b[43m.\u001b[49m\u001b[43mitem\u001b[49m\u001b[43m(\u001b[49m\u001b[43m)\u001b[49m\n\u001b[32m     53\u001b[39m logits = outputs.logits\n\u001b[32m     54\u001b[39m preds.extend(torch.argmax(logits, dim=\u001b[32m1\u001b[39m).cpu().numpy())\n",
      "\u001b[31mKeyboardInterrupt\u001b[39m: "
     ]
    }
   ],
   "source": [
    "print(datetime.now())\n",
    "\n",
    "patience = 3\n",
    "best_val_loss = float('inf')\n",
    "patience_counter = 0\n",
    "\n",
    "# 7. Loop de treinamento\n",
    "for epoch in range(epochs):\n",
    "\n",
    "    # Reamostrar aleatoriamente X mil índices do dataset completo a cada época\n",
    "    indices = random.sample(range(len(train_dataset)), sampler_size)\n",
    "    sampler = SubsetRandomSampler(indices)\n",
    "    \n",
    "    # Cria um DataLoader com o novo sampler para essa época\n",
    "    train_loader = DataLoader(train_dataset, batch_size=batch_size, sampler=sampler)\n",
    "    \n",
    "    model.train()\n",
    "    train_loss = 0.0\n",
    "    progress_bar = tqdm(train_loader, desc=f\"Epoch {epoch+1}/{epochs}\")\n",
    "    \n",
    "    for batch in progress_bar:\n",
    "        optimizer.zero_grad()\n",
    "        input_ids = batch['input_ids'].to(device)\n",
    "        attention_mask = batch['attention_mask'].to(device)\n",
    "        labels = batch['labels'].to(device)\n",
    "        \n",
    "        outputs = model(input_ids=input_ids, attention_mask=attention_mask, labels=labels)\n",
    "        loss = outputs.loss\n",
    "        loss.backward()\n",
    "        optimizer.step()\n",
    "        scheduler.step()\n",
    "        \n",
    "        train_loss += loss.item()\n",
    "        progress_bar.set_postfix(loss=f\"{loss.item():.4f}\")\n",
    "    \n",
    "    avg_train_loss = train_loss / len(train_loader)\n",
    "    print(f\"\\nEpoch {epoch+1} - Treino Loss: {avg_train_loss:.4f}\")\n",
    "    \n",
    "    # Avaliação no conjunto de validação\n",
    "    model.eval()\n",
    "    val_loss = 0.0\n",
    "    preds = []\n",
    "    true_labels = []\n",
    "    with torch.no_grad():\n",
    "        for batch in val_loader:\n",
    "            input_ids = batch['input_ids'].to(device)\n",
    "            attention_mask = batch['attention_mask'].to(device)\n",
    "            labels = batch['labels'].to(device)\n",
    "            \n",
    "            outputs = model(input_ids=input_ids, attention_mask=attention_mask, labels=labels)\n",
    "            loss = outputs.loss\n",
    "            val_loss += loss.item()\n",
    "            logits = outputs.logits\n",
    "            preds.extend(torch.argmax(logits, dim=1).cpu().numpy())\n",
    "            true_labels.extend(labels.cpu().numpy())\n",
    "    \n",
    "    avg_val_loss = val_loss / len(val_loader)\n",
    "    acc = accuracy_score(true_labels, preds)\n",
    "    precision, recall, f1, _ = precision_recall_fscore_support(true_labels, preds, average='weighted')\n",
    "    print(f\"Epoch {epoch+1} - Validação Loss: {avg_val_loss:.4f} | Acurácia: {acc:.4f} | Precision: {precision:.4f} | Recall: {recall:.4f} | F1: {f1:.4f}\\n\")\n",
    "\n",
    "        # Early Stopping: verificar se a loss de validação melhorou\n",
    "    if avg_val_loss < best_val_loss:\n",
    "        best_val_loss = avg_val_loss\n",
    "        patience_counter = 0\n",
    "    else:\n",
    "        patience_counter += 1\n",
    "        print(f\"Sem melhora na loss de validação por {patience_counter} epoch(s).\")\n",
    "    \n",
    "    if patience_counter >= patience:\n",
    "        print(f\"Early stopping: Não houve melhora na loss de validação por {patience} epochs consecutivas.\")\n",
    "        break\n",
    "\n",
    "print(datetime.now())"
   ]
  },
  {
   "cell_type": "code",
   "execution_count": 88,
   "id": "c15576d3-54cd-4d6f-9d79-6245a43866fd",
   "metadata": {},
   "outputs": [
    {
     "data": {
      "text/plain": [
       "('modelo/md02_bert_final\\\\tokenizer_config.json',\n",
       " 'modelo/md02_bert_final\\\\special_tokens_map.json',\n",
       " 'modelo/md02_bert_final\\\\vocab.txt',\n",
       " 'modelo/md02_bert_final\\\\added_tokens.json',\n",
       " 'modelo/md02_bert_final\\\\tokenizer.json')"
      ]
     },
     "execution_count": 88,
     "metadata": {},
     "output_type": "execute_result"
    }
   ],
   "source": [
    "\n",
    "# Salvar o modelo treinado e o tokenizer\n",
    "model.save_pretrained(\"modelo/md02_bert_final\")\n",
    "tokenizer.save_pretrained(\"modelo/md02_bert_final\")\n"
   ]
  },
  {
   "cell_type": "code",
   "execution_count": 66,
   "id": "cffb50ba-0b3f-4f69-bae0-d280c0894374",
   "metadata": {},
   "outputs": [],
   "source": [
    "# 8. Aplicar o modelo na base de dados de aplicação\n",
    "# Supondo que 'dados_aplicacao.csv' contenha a coluna \"X\" (sem label)\n",
    "app_df = pd.read_parquet(\"bases/bd01_benscand_apply.parquet\")\n",
    "#app_df = app_df.sample(n=5000, random_state=42)\n"
   ]
  },
  {
   "cell_type": "code",
   "execution_count": 67,
   "id": "e2c4a112-a316-4692-bcf3-4157d5b090ff",
   "metadata": {},
   "outputs": [],
   "source": [
    "app_dataset = AppDataset(app_df, tokenizer, max_len=max_len)\n",
    "app_loader = DataLoader(app_dataset, batch_size=batch_size)"
   ]
  },
  {
   "cell_type": "code",
   "execution_count": 68,
   "id": "dceecd5b-5385-4aad-9a38-a8129444c726",
   "metadata": {},
   "outputs": [
    {
     "name": "stderr",
     "output_type": "stream",
     "text": [
      "Predizendo na base de aplicação: 100%|███████████████████████████████████████████████| 313/313 [00:13<00:00, 23.58it/s]\n"
     ]
    },
    {
     "name": "stdout",
     "output_type": "stream",
     "text": [
      "Predições salvas'\n"
     ]
    }
   ],
   "source": [
    "model.eval()\n",
    "all_preds = []\n",
    "with torch.no_grad():\n",
    "    for batch in tqdm(app_loader, desc=\"Predizendo na base de aplicação\"):\n",
    "        input_ids = batch['input_ids'].to(device)\n",
    "        attention_mask = batch['attention_mask'].to(device)\n",
    "        outputs = model(input_ids=input_ids, attention_mask=attention_mask)\n",
    "        logits = outputs.logits\n",
    "        preds = torch.argmax(logits, dim=1)\n",
    "        all_preds.extend(preds.cpu().numpy())\n",
    "\n",
    "app_df['y'] = all_preds\n",
    "app_df.to_parquet(\"output/base_final.parquet\", index=False)\n",
    "print(\"Predições salvas'\")\n"
   ]
  }
 ],
 "metadata": {
  "kernelspec": {
   "display_name": "Python 3 (ipykernel)",
   "language": "python",
   "name": "python3"
  },
  "language_info": {
   "codemirror_mode": {
    "name": "ipython",
    "version": 3
   },
   "file_extension": ".py",
   "mimetype": "text/x-python",
   "name": "python",
   "nbconvert_exporter": "python",
   "pygments_lexer": "ipython3",
   "version": "3.13.2"
  }
 },
 "nbformat": 4,
 "nbformat_minor": 5
}
